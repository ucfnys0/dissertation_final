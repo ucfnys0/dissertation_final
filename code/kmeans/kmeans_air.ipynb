{
 "cells": [
  {
   "cell_type": "code",
   "execution_count": 1,
   "id": "25fed0a1",
   "metadata": {},
   "outputs": [
    {
     "name": "stdout",
     "output_type": "stream",
     "text": [
      "[[21.257806    1.94154417 17.71239849]\n",
      " [28.52321127  2.08111931 19.32285655]\n",
      " [16.21131817  1.31037543 15.66236012]]\n"
     ]
    },
    {
     "data": {
      "image/png": "[encoded data removed]",
      "text/plain": [
       "<Figure size 432x288 with 2 Axes>"
      ]
     },
     "metadata": {
      "needs_background": "light"
     },
     "output_type": "display_data"
    }
   ],
   "source": [
    "import numpy as np\n",
    "import matplotlib.pyplot as plt\n",
    "from sklearn.cluster import KMeans\n",
    "import pandas as pd\n",
    "import seaborn\n",
    "from sklearn.preprocessing import MinMaxScaler\n",
    "data=pd.read_excel(r\"..\\..\\dataset\\AHAH\\air_data.xlsx\")\n",
    "community_code=data[\"lsoa11\"]\n",
    "\n",
    "data.set_index(\"lsoa11\",inplace=True)\n",
    "xticklabels=data.columns\n",
    "\n",
    "data_input=data\n",
    "k=3\n",
    "kmodel = KMeans(n_clusters=k, init=\"random\",\n",
    "               max_iter=200, tol=1e-04)\n",
    "\n",
    "\n",
    "kmodel = kmodel.fit(data_input)\n",
    "yticklabels=[\"Excellent\",\"Average\",\"Poor\"]\n",
    "print(kmodel.cluster_centers_)\n",
    "health_center=[[1.37776803,1.26361429,1.19212573,1.47649188,1.56992386],\n",
    "               [3.8272721,3.71510134,3.16636161,4.44792881,6.92876184],\n",
    "               [2.38887628, 2.29080426, 2.03262818, 2.88576439, 3.43479577],\n",
    "\n",
    "               ]\n",
    "retail_center=[[ 2.54703145,2.80674873,23.59541074,2.89313568,5.5706339 ],\n",
    "               [ 1.95651306,2.37796961,11.70649758,2.4054598,4.78673353],\n",
    "               [ 1.24199941,1.71661593,4.94500339,1.36970161,2.98440331]\n",
    "               ]\n",
    "environment_center=[[ 6.55474166,0.37257457, 0.59301451],\n",
    "                    [13.28837057,0.46272304,0.80729774],\n",
    "                    [ 2.46468584,0.33803494,0.04038748]]\n",
    "air_center=[[19.719983,1.67871189,16.98960086],\n",
    "            [26.4595222,2.01803159,19.05143989],\n",
    "            [34.74199511,2.44865425,20.12818536]]\n",
    "air_center_10=[[16.21131817,1.31037543,15.66236012],\n",
    "               [21.257806,1.94154417,17.71239849],\n",
    "                [28.52321127,2.08111931,19.32285655]\n",
    "                ]\n",
    "seaborn.heatmap(air_center_10,annot=True,cmap=\"YlGnBu\",xticklabels=xticklabels[0:5],yticklabels=yticklabels)#这个函数是用来画簇中心点的热力图的\n",
    "data[\"health_label\"]=kmodel.labels_\n",
    "#data.to_excel(r\"..\\..\\dataset\\AHAH\\air_score.xlsx\")\n",
    "plt.show()"
   ]
  },
  {
   "cell_type": "code",
   "execution_count": null,
   "id": "9743cb26",
   "metadata": {},
   "outputs": [],
   "source": []
  }
 ],
 "metadata": {
  "kernelspec": {
   "display_name": "Python 3 (ipykernel)",
   "language": "python",
   "name": "python3"
  },
  "language_info": {
   "codemirror_mode": {
    "name": "ipython",
    "version": 3
   },
   "file_extension": ".py",
   "mimetype": "text/x-python",
   "name": "python",
   "nbconvert_exporter": "python",
   "pygments_lexer": "ipython3",
   "version": "3.9.12"
  }
 },
 "nbformat": 4,
 "nbformat_minor": 5
}
