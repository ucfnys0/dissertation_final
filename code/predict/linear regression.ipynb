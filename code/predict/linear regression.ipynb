{
 "cells": [
  {
   "cell_type": "code",
   "execution_count": 7,
   "id": "9e60a97c",
   "metadata": {},
   "outputs": [
    {
     "name": "stdout",
     "output_type": "stream",
     "text": [
      "Anti-social behaviour\n",
      "..\\..\\dataset\\crime_data_predict_input\\Anti-social behaviour.xlsx\n"
     ]
    },
    {
     "name": "stderr",
     "output_type": "stream",
     "text": [
      "D:\\anaconda\\file\\lib\\site-packages\\sklearn\\base.py:493: FutureWarning: The feature names should match those that were passed during fit. Starting version 1.2, an error will be raised.\n",
      "Feature names unseen at fit time:\n",
      "- 2022-06\n",
      "Feature names seen at fit time, yet now missing:\n",
      "- 2019-07\n",
      "\n",
      "  warnings.warn(message, FutureWarning)\n"
     ]
    },
    {
     "name": "stdout",
     "output_type": "stream",
     "text": [
      "mean_absolute_error 2.1430051813471502\n",
      "mean_squared_error 9.722279792746114\n",
      "median_absolute_error 2.0\n",
      "explained_variance_score 0.7612883452526088\n",
      "r2_score,r2_score 0.7609571462133394\n",
      "Bicycle theft\n",
      "..\\..\\dataset\\crime_data_predict_input\\Bicycle theft.xlsx\n"
     ]
    },
    {
     "name": "stderr",
     "output_type": "stream",
     "text": [
      "D:\\anaconda\\file\\lib\\site-packages\\sklearn\\base.py:493: FutureWarning: The feature names should match those that were passed during fit. Starting version 1.2, an error will be raised.\n",
      "Feature names unseen at fit time:\n",
      "- 2022-06\n",
      "Feature names seen at fit time, yet now missing:\n",
      "- 2019-07\n",
      "\n",
      "  warnings.warn(message, FutureWarning)\n"
     ]
    },
    {
     "name": "stdout",
     "output_type": "stream",
     "text": [
      "mean_absolute_error 0.30984455958549223\n",
      "mean_squared_error 0.5233160621761658\n",
      "median_absolute_error 0.0\n",
      "explained_variance_score 0.18072573441423823\n",
      "r2_score,r2_score 0.17866111607368584\n",
      "Burglary\n",
      "..\\..\\dataset\\crime_data_predict_input\\Burglary.xlsx\n"
     ]
    },
    {
     "name": "stderr",
     "output_type": "stream",
     "text": [
      "D:\\anaconda\\file\\lib\\site-packages\\sklearn\\base.py:493: FutureWarning: The feature names should match those that were passed during fit. Starting version 1.2, an error will be raised.\n",
      "Feature names unseen at fit time:\n",
      "- 2022-06\n",
      "Feature names seen at fit time, yet now missing:\n",
      "- 2019-07\n",
      "\n",
      "  warnings.warn(message, FutureWarning)\n"
     ]
    },
    {
     "name": "stdout",
     "output_type": "stream",
     "text": [
      "mean_absolute_error 0.8134715025906736\n",
      "mean_squared_error 1.366839378238342\n",
      "median_absolute_error 1.0\n",
      "explained_variance_score 0.21000736584656932\n",
      "r2_score,r2_score 0.20948504907045007\n",
      "Criminal damage and arson\n",
      "..\\..\\dataset\\crime_data_predict_input\\Criminal damage and arson.xlsx\n"
     ]
    },
    {
     "name": "stderr",
     "output_type": "stream",
     "text": [
      "D:\\anaconda\\file\\lib\\site-packages\\sklearn\\base.py:493: FutureWarning: The feature names should match those that were passed during fit. Starting version 1.2, an error will be raised.\n",
      "Feature names unseen at fit time:\n",
      "- 2022-06\n",
      "Feature names seen at fit time, yet now missing:\n",
      "- 2019-07\n",
      "\n",
      "  warnings.warn(message, FutureWarning)\n"
     ]
    },
    {
     "name": "stdout",
     "output_type": "stream",
     "text": [
      "mean_absolute_error 0.6383419689119171\n",
      "mean_squared_error 1.1419689119170984\n",
      "median_absolute_error 1.0\n",
      "explained_variance_score 0.2768313504652411\n",
      "r2_score,r2_score 0.2760443755803601\n",
      "Drugs\n",
      "..\\..\\dataset\\crime_data_predict_input\\Drugs.xlsx\n"
     ]
    },
    {
     "name": "stderr",
     "output_type": "stream",
     "text": [
      "D:\\anaconda\\file\\lib\\site-packages\\sklearn\\base.py:493: FutureWarning: The feature names should match those that were passed during fit. Starting version 1.2, an error will be raised.\n",
      "Feature names unseen at fit time:\n",
      "- 2022-06\n",
      "Feature names seen at fit time, yet now missing:\n",
      "- 2019-07\n",
      "\n",
      "  warnings.warn(message, FutureWarning)\n"
     ]
    },
    {
     "name": "stdout",
     "output_type": "stream",
     "text": [
      "mean_absolute_error 0.6715025906735751\n",
      "mean_squared_error 1.4487046632124352\n",
      "median_absolute_error 0.0\n",
      "explained_variance_score 0.7973832341486184\n",
      "r2_score,r2_score 0.7954123796233417\n",
      "Other crime\n",
      "..\\..\\dataset\\crime_data_predict_input\\Other crime.xlsx\n"
     ]
    },
    {
     "name": "stderr",
     "output_type": "stream",
     "text": [
      "D:\\anaconda\\file\\lib\\site-packages\\sklearn\\base.py:493: FutureWarning: The feature names should match those that were passed during fit. Starting version 1.2, an error will be raised.\n",
      "Feature names unseen at fit time:\n",
      "- 2022-06\n",
      "Feature names seen at fit time, yet now missing:\n",
      "- 2019-07\n",
      "\n",
      "  warnings.warn(message, FutureWarning)\n"
     ]
    },
    {
     "name": "stdout",
     "output_type": "stream",
     "text": [
      "mean_absolute_error 0.1616580310880829\n",
      "mean_squared_error 0.23212435233160622\n",
      "median_absolute_error 0.0\n",
      "explained_variance_score 0.1299379173404156\n",
      "r2_score,r2_score 0.09448126209606456\n",
      "Other theft\n",
      "..\\..\\dataset\\crime_data_predict_input\\Other theft.xlsx\n"
     ]
    },
    {
     "name": "stderr",
     "output_type": "stream",
     "text": [
      "D:\\anaconda\\file\\lib\\site-packages\\sklearn\\base.py:493: FutureWarning: The feature names should match those that were passed during fit. Starting version 1.2, an error will be raised.\n",
      "Feature names unseen at fit time:\n",
      "- 2022-06\n",
      "Feature names seen at fit time, yet now missing:\n",
      "- 2019-07\n",
      "\n",
      "  warnings.warn(message, FutureWarning)\n"
     ]
    },
    {
     "name": "stdout",
     "output_type": "stream",
     "text": [
      "mean_absolute_error 1.2196891191709844\n",
      "mean_squared_error 15.339896373056995\n",
      "median_absolute_error 1.0\n",
      "explained_variance_score 0.7753359979207879\n",
      "r2_score,r2_score 0.7726475211713109\n",
      "Possession of weapons\n",
      "..\\..\\dataset\\crime_data_predict_input\\Possession of weapons.xlsx\n"
     ]
    },
    {
     "name": "stderr",
     "output_type": "stream",
     "text": [
      "D:\\anaconda\\file\\lib\\site-packages\\sklearn\\base.py:493: FutureWarning: The feature names should match those that were passed during fit. Starting version 1.2, an error will be raised.\n",
      "Feature names unseen at fit time:\n",
      "- 2022-06\n",
      "Feature names seen at fit time, yet now missing:\n",
      "- 2019-07\n",
      "\n",
      "  warnings.warn(message, FutureWarning)\n"
     ]
    },
    {
     "name": "stdout",
     "output_type": "stream",
     "text": [
      "mean_absolute_error 0.10051813471502591\n",
      "mean_squared_error 0.20621761658031088\n",
      "median_absolute_error 0.0\n",
      "explained_variance_score 0.1926303854875281\n",
      "r2_score,r2_score 0.16258939473225165\n",
      "Public order\n",
      "..\\..\\dataset\\crime_data_predict_input\\Public order.xlsx\n"
     ]
    },
    {
     "name": "stderr",
     "output_type": "stream",
     "text": [
      "D:\\anaconda\\file\\lib\\site-packages\\sklearn\\base.py:493: FutureWarning: The feature names should match those that were passed during fit. Starting version 1.2, an error will be raised.\n",
      "Feature names unseen at fit time:\n",
      "- 2022-06\n",
      "Feature names seen at fit time, yet now missing:\n",
      "- 2019-07\n",
      "\n",
      "  warnings.warn(message, FutureWarning)\n"
     ]
    },
    {
     "name": "stdout",
     "output_type": "stream",
     "text": [
      "mean_absolute_error 0.8569948186528498\n",
      "mean_squared_error 1.6341968911917097\n",
      "median_absolute_error 1.0\n",
      "explained_variance_score 0.6197335589131128\n",
      "r2_score,r2_score 0.619132652422772\n",
      "Robbery\n",
      "..\\..\\dataset\\crime_data_predict_input\\Robbery.xlsx\n"
     ]
    },
    {
     "name": "stderr",
     "output_type": "stream",
     "text": [
      "D:\\anaconda\\file\\lib\\site-packages\\sklearn\\base.py:493: FutureWarning: The feature names should match those that were passed during fit. Starting version 1.2, an error will be raised.\n",
      "Feature names unseen at fit time:\n",
      "- 2022-06\n",
      "Feature names seen at fit time, yet now missing:\n",
      "- 2019-07\n",
      "\n",
      "  warnings.warn(message, FutureWarning)\n"
     ]
    },
    {
     "name": "stdout",
     "output_type": "stream",
     "text": [
      "mean_absolute_error 0.5823834196891192\n",
      "mean_squared_error 1.9067357512953367\n",
      "median_absolute_error 0.0\n",
      "explained_variance_score 0.7003277394474818\n",
      "r2_score,r2_score 0.6958320285653399\n",
      "Shoplifting\n",
      "..\\..\\dataset\\crime_data_predict_input\\Shoplifting.xlsx\n"
     ]
    },
    {
     "name": "stderr",
     "output_type": "stream",
     "text": [
      "D:\\anaconda\\file\\lib\\site-packages\\sklearn\\base.py:493: FutureWarning: The feature names should match those that were passed during fit. Starting version 1.2, an error will be raised.\n",
      "Feature names unseen at fit time:\n",
      "- 2022-06\n",
      "Feature names seen at fit time, yet now missing:\n",
      "- 2019-07\n",
      "\n",
      "  warnings.warn(message, FutureWarning)\n"
     ]
    },
    {
     "name": "stdout",
     "output_type": "stream",
     "text": [
      "mean_absolute_error 0.45284974093264246\n",
      "mean_squared_error 1.7772020725388602\n",
      "median_absolute_error 0.0\n",
      "explained_variance_score 0.8605499316038085\n",
      "r2_score,r2_score 0.8590887750721469\n",
      "Theft from the person\n",
      "..\\..\\dataset\\crime_data_predict_input\\Theft from the person.xlsx\n"
     ]
    },
    {
     "name": "stderr",
     "output_type": "stream",
     "text": [
      "D:\\anaconda\\file\\lib\\site-packages\\sklearn\\base.py:493: FutureWarning: The feature names should match those that were passed during fit. Starting version 1.2, an error will be raised.\n",
      "Feature names unseen at fit time:\n",
      "- 2022-06\n",
      "Feature names seen at fit time, yet now missing:\n",
      "- 2019-07\n",
      "\n",
      "  warnings.warn(message, FutureWarning)\n"
     ]
    },
    {
     "name": "stdout",
     "output_type": "stream",
     "text": [
      "mean_absolute_error 0.6414507772020726\n",
      "mean_squared_error 4.7492227979274615\n",
      "median_absolute_error 0.0\n",
      "explained_variance_score 0.9174782632544914\n",
      "r2_score,r2_score 0.9171468766139386\n",
      "Vehicle crime\n",
      "..\\..\\dataset\\crime_data_predict_input\\Vehicle crime.xlsx\n"
     ]
    },
    {
     "name": "stderr",
     "output_type": "stream",
     "text": [
      "D:\\anaconda\\file\\lib\\site-packages\\sklearn\\base.py:493: FutureWarning: The feature names should match those that were passed during fit. Starting version 1.2, an error will be raised.\n",
      "Feature names unseen at fit time:\n",
      "- 2022-06\n",
      "Feature names seen at fit time, yet now missing:\n",
      "- 2019-07\n",
      "\n",
      "  warnings.warn(message, FutureWarning)\n"
     ]
    },
    {
     "name": "stdout",
     "output_type": "stream",
     "text": [
      "mean_absolute_error 0.7450777202072539\n",
      "mean_squared_error 1.178238341968912\n",
      "median_absolute_error 1.0\n",
      "explained_variance_score 0.2881939530541786\n",
      "r2_score,r2_score 0.28772070365499125\n",
      "Violence and sexual offences\n",
      "..\\..\\dataset\\crime_data_predict_input\\Violence and sexual offences.xlsx\n",
      "mean_absolute_error 1.9989637305699481\n",
      "mean_squared_error 7.787564766839378\n",
      "median_absolute_error 2.0\n",
      "explained_variance_score 0.7792170167849091\n",
      "r2_score,r2_score 0.7786607672782084\n"
     ]
    },
    {
     "name": "stderr",
     "output_type": "stream",
     "text": [
      "D:\\anaconda\\file\\lib\\site-packages\\sklearn\\base.py:493: FutureWarning: The feature names should match those that were passed during fit. Starting version 1.2, an error will be raised.\n",
      "Feature names unseen at fit time:\n",
      "- 2022-06\n",
      "Feature names seen at fit time, yet now missing:\n",
      "- 2019-07\n",
      "\n",
      "  warnings.warn(message, FutureWarning)\n"
     ]
    }
   ],
   "source": [
    "import pandas as pd\n",
    "import os\n",
    "import numpy as np\n",
    "from sklearn.linear_model import LinearRegression\n",
    "from sklearn.metrics import explained_variance_score,mean_absolute_error,mean_squared_error,median_absolute_error,r2_score\n",
    "train_samples_number=3866\n",
    "path=r\"..\\..\\dataset\\crime_data_predict_input\"\n",
    "path_predict=r\"..\\..\\dataset\\crime_data_linear_regression_result\"\n",
    "columns_data=pd.read_excel(r\"..\\..\\dataset\\crime_feature\\three_year.xlsx\")\n",
    "data_predict=pd.DataFrame(columns=columns_data.columns)\n",
    "data_predict[\"LSOA code\"]=columns_data[\"LSOA code\"]\n",
    "data_predict.set_index(\"LSOA code\",inplace=True)\n",
    "for root, dirs, filenames in os.walk(path):\n",
    "    for filename in filenames:\n",
    "        print(filename[:-5])\n",
    "        file_path=os.path.join(path,filename)\n",
    "        print(file_path)\n",
    "        data=pd.read_excel(file_path)\n",
    "        data.set_index(\"LSOA code\",inplace=True)\n",
    "        train_data=data.iloc[:3866,:]\n",
    "        test_data = data.iloc[3866:, :]\n",
    "        train_x = train_data.iloc[:, 0:35]\n",
    "        train_y=train_data[\"2022-06\"]\n",
    "        test_x = test_data.iloc[:, 0:35]\n",
    "        test_y = test_data[\"2022-06\"]\n",
    "        predict_x=data.iloc[:, 1:36]\n",
    "\n",
    "        tree_model = LinearRegression()\n",
    "\n",
    "        tree_model.fit(train_x, train_y)\n",
    "        y_pred=np.round(tree_model.predict(test_x))  #for test\n",
    "        \n",
    "\n",
    "        predict_y=np.round(tree_model.predict(predict_x))  #for predict crime number next time\n",
    "        data_predict[filename[0:-5]]=predict_y\n",
    "       # print(\"test\",type(test_y))\n",
    "       # print(\"prediction\",type(y_pred))\n",
    "        mean_absolute_error0=mean_absolute_error(test_y, y_pred)\n",
    "        mean_squared_error0=mean_squared_error(test_y, y_pred)\n",
    "        median_absolute_error0=median_absolute_error(test_y, y_pred)\n",
    "        explained_variance_score0=explained_variance_score(test_y, y_pred)\n",
    "        r2_score0=r2_score(test_y, y_pred)\n",
    "        print(\"mean_absolute_error\",mean_absolute_error0)\n",
    "        print(\"mean_squared_error\",mean_squared_error0)\n",
    "        print(\"median_absolute_error\",median_absolute_error0)\n",
    "        print(\"explained_variance_score\",explained_variance_score0)\n",
    "        print(\"r2_score,r2_score\",r2_score0)\n",
    "        #data_evaluate.loc[filename[:-5]]=[mean_absolute_error,mean_squared_error,median_absolute_error,explained_variance_score,r2_score]\n",
    "        #data[\"predict\"]=predict_y\n",
    "        #data.to_excel(os.path.join(path_predict,filename))\n",
    "\n",
    "\n",
    "\n",
    "\n"
   ]
  },
  {
   "cell_type": "code",
   "execution_count": null,
   "id": "7cdfb471",
   "metadata": {},
   "outputs": [],
   "source": [
    "data_evaluate.to_excel(r\"..\\..\\dataset\\crime_assessment\\linear_regression.xlsx\")"
   ]
  }
 ],
 "metadata": {
  "kernelspec": {
   "display_name": "Python 3 (ipykernel)",
   "language": "python",
   "name": "python3"
  },
  "language_info": {
   "codemirror_mode": {
    "name": "ipython",
    "version": 3
   },
   "file_extension": ".py",
   "mimetype": "text/x-python",
   "name": "python",
   "nbconvert_exporter": "python",
   "pygments_lexer": "ipython3",
   "version": "3.9.12"
  }
 },
 "nbformat": 4,
 "nbformat_minor": 5
}
