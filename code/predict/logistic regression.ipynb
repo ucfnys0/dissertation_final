{
 "cells": [
  {
   "cell_type": "code",
   "execution_count": 1,
   "id": "eb06da59",
   "metadata": {},
   "outputs": [
    {
     "name": "stdout",
     "output_type": "stream",
     "text": [
      "Anti-social behaviour\n",
      "..\\..\\dataset\\crime_data_predict_input\\Anti-social behaviour.xlsx\n",
      "before train\n",
      "after train\n"
     ]
    },
    {
     "name": "stderr",
     "output_type": "stream",
     "text": [
      "D:\\anaconda\\file\\lib\\site-packages\\sklearn\\linear_model\\_logistic.py:814: ConvergenceWarning: lbfgs failed to converge (status=1):\n",
      "STOP: TOTAL NO. of ITERATIONS REACHED LIMIT.\n",
      "\n",
      "Increase the number of iterations (max_iter) or scale the data as shown in:\n",
      "    https://scikit-learn.org/stable/modules/preprocessing.html\n",
      "Please also refer to the documentation for alternative solver options:\n",
      "    https://scikit-learn.org/stable/modules/linear_model.html#logistic-regression\n",
      "  n_iter_i = _check_optimize_result(\n",
      "D:\\anaconda\\file\\lib\\site-packages\\sklearn\\base.py:493: FutureWarning: The feature names should match those that were passed during fit. Starting version 1.2, an error will be raised.\n",
      "Feature names unseen at fit time:\n",
      "- 2022-06\n",
      "Feature names seen at fit time, yet now missing:\n",
      "- 2019-07\n",
      "\n",
      "  warnings.warn(message, FutureWarning)\n"
     ]
    },
    {
     "name": "stdout",
     "output_type": "stream",
     "text": [
      "before predict next t\n",
      "after predict next t\n",
      "mean_absolute_error 3.6414507772020723\n",
      "mean_squared_error 42.46424870466321\n",
      "median_absolute_error 2.0\n",
      "explained_variance_score -0.022687134189948166\n",
      "r2_score,r2_score -0.04407355174480676\n",
      "after evaluation\n",
      "Bicycle theft\n",
      "..\\..\\dataset\\crime_data_predict_input\\Bicycle theft.xlsx\n",
      "before train\n",
      "after train\n"
     ]
    },
    {
     "name": "stderr",
     "output_type": "stream",
     "text": [
      "D:\\anaconda\\file\\lib\\site-packages\\sklearn\\linear_model\\_logistic.py:814: ConvergenceWarning: lbfgs failed to converge (status=1):\n",
      "STOP: TOTAL NO. of ITERATIONS REACHED LIMIT.\n",
      "\n",
      "Increase the number of iterations (max_iter) or scale the data as shown in:\n",
      "    https://scikit-learn.org/stable/modules/preprocessing.html\n",
      "Please also refer to the documentation for alternative solver options:\n",
      "    https://scikit-learn.org/stable/modules/linear_model.html#logistic-regression\n",
      "  n_iter_i = _check_optimize_result(\n",
      "D:\\anaconda\\file\\lib\\site-packages\\sklearn\\base.py:493: FutureWarning: The feature names should match those that were passed during fit. Starting version 1.2, an error will be raised.\n",
      "Feature names unseen at fit time:\n",
      "- 2022-06\n",
      "Feature names seen at fit time, yet now missing:\n",
      "- 2019-07\n",
      "\n",
      "  warnings.warn(message, FutureWarning)\n"
     ]
    },
    {
     "name": "stdout",
     "output_type": "stream",
     "text": [
      "before predict next t\n",
      "after predict next t\n",
      "mean_absolute_error 0.2911917098445596\n",
      "mean_squared_error 0.566839378238342\n",
      "median_absolute_error 0.0\n",
      "explained_variance_score 0.14016483238669886\n",
      "r2_score,r2_score 0.11035174354912103\n",
      "after evaluation\n",
      "Burglary\n",
      "..\\..\\dataset\\crime_data_predict_input\\Burglary.xlsx\n",
      "before train\n",
      "after train\n"
     ]
    },
    {
     "name": "stderr",
     "output_type": "stream",
     "text": [
      "D:\\anaconda\\file\\lib\\site-packages\\sklearn\\linear_model\\_logistic.py:814: ConvergenceWarning: lbfgs failed to converge (status=1):\n",
      "STOP: TOTAL NO. of ITERATIONS REACHED LIMIT.\n",
      "\n",
      "Increase the number of iterations (max_iter) or scale the data as shown in:\n",
      "    https://scikit-learn.org/stable/modules/preprocessing.html\n",
      "Please also refer to the documentation for alternative solver options:\n",
      "    https://scikit-learn.org/stable/modules/linear_model.html#logistic-regression\n",
      "  n_iter_i = _check_optimize_result(\n",
      "D:\\anaconda\\file\\lib\\site-packages\\sklearn\\base.py:493: FutureWarning: The feature names should match those that were passed during fit. Starting version 1.2, an error will be raised.\n",
      "Feature names unseen at fit time:\n",
      "- 2022-06\n",
      "Feature names seen at fit time, yet now missing:\n",
      "- 2019-07\n",
      "\n",
      "  warnings.warn(message, FutureWarning)\n"
     ]
    },
    {
     "name": "stdout",
     "output_type": "stream",
     "text": [
      "before predict next t\n",
      "after predict next t\n",
      "mean_absolute_error 0.7730569948186529\n",
      "mean_squared_error 1.738860103626943\n",
      "median_absolute_error 0.0\n",
      "explained_variance_score 0.1904860092389825\n",
      "r2_score,r2_score -0.005674061910375006\n",
      "after evaluation\n",
      "Criminal damage and arson\n",
      "..\\..\\dataset\\crime_data_predict_input\\Criminal damage and arson.xlsx\n",
      "before train\n",
      "after train\n"
     ]
    },
    {
     "name": "stderr",
     "output_type": "stream",
     "text": [
      "D:\\anaconda\\file\\lib\\site-packages\\sklearn\\linear_model\\_logistic.py:814: ConvergenceWarning: lbfgs failed to converge (status=1):\n",
      "STOP: TOTAL NO. of ITERATIONS REACHED LIMIT.\n",
      "\n",
      "Increase the number of iterations (max_iter) or scale the data as shown in:\n",
      "    https://scikit-learn.org/stable/modules/preprocessing.html\n",
      "Please also refer to the documentation for alternative solver options:\n",
      "    https://scikit-learn.org/stable/modules/linear_model.html#logistic-regression\n",
      "  n_iter_i = _check_optimize_result(\n",
      "D:\\anaconda\\file\\lib\\site-packages\\sklearn\\base.py:493: FutureWarning: The feature names should match those that were passed during fit. Starting version 1.2, an error will be raised.\n",
      "Feature names unseen at fit time:\n",
      "- 2022-06\n",
      "Feature names seen at fit time, yet now missing:\n",
      "- 2019-07\n",
      "\n",
      "  warnings.warn(message, FutureWarning)\n"
     ]
    },
    {
     "name": "stdout",
     "output_type": "stream",
     "text": [
      "before predict next t\n",
      "after predict next t\n",
      "mean_absolute_error 0.672538860103627\n",
      "mean_squared_error 1.6922279792746113\n",
      "median_absolute_error 0.0\n",
      "explained_variance_score 0.08080516516941738\n",
      "r2_score,r2_score -0.07279449607737942\n",
      "after evaluation\n",
      "Drugs\n",
      "..\\..\\dataset\\crime_data_predict_input\\Drugs.xlsx\n",
      "before train\n",
      "after train\n"
     ]
    },
    {
     "name": "stderr",
     "output_type": "stream",
     "text": [
      "D:\\anaconda\\file\\lib\\site-packages\\sklearn\\linear_model\\_logistic.py:814: ConvergenceWarning: lbfgs failed to converge (status=1):\n",
      "STOP: TOTAL NO. of ITERATIONS REACHED LIMIT.\n",
      "\n",
      "Increase the number of iterations (max_iter) or scale the data as shown in:\n",
      "    https://scikit-learn.org/stable/modules/preprocessing.html\n",
      "Please also refer to the documentation for alternative solver options:\n",
      "    https://scikit-learn.org/stable/modules/linear_model.html#logistic-regression\n",
      "  n_iter_i = _check_optimize_result(\n",
      "D:\\anaconda\\file\\lib\\site-packages\\sklearn\\base.py:493: FutureWarning: The feature names should match those that were passed during fit. Starting version 1.2, an error will be raised.\n",
      "Feature names unseen at fit time:\n",
      "- 2022-06\n",
      "Feature names seen at fit time, yet now missing:\n",
      "- 2019-07\n",
      "\n",
      "  warnings.warn(message, FutureWarning)\n"
     ]
    },
    {
     "name": "stdout",
     "output_type": "stream",
     "text": [
      "before predict next t\n",
      "after predict next t\n",
      "mean_absolute_error 0.7844559585492228\n",
      "mean_squared_error 4.7492227979274615\n",
      "median_absolute_error 0.0\n",
      "explained_variance_score 0.3740237855268669\n",
      "r2_score,r2_score 0.3293096822702254\n",
      "after evaluation\n",
      "Other crime\n",
      "..\\..\\dataset\\crime_data_predict_input\\Other crime.xlsx\n",
      "before train\n",
      "after train\n"
     ]
    },
    {
     "name": "stderr",
     "output_type": "stream",
     "text": [
      "D:\\anaconda\\file\\lib\\site-packages\\sklearn\\linear_model\\_logistic.py:814: ConvergenceWarning: lbfgs failed to converge (status=1):\n",
      "STOP: TOTAL NO. of ITERATIONS REACHED LIMIT.\n",
      "\n",
      "Increase the number of iterations (max_iter) or scale the data as shown in:\n",
      "    https://scikit-learn.org/stable/modules/preprocessing.html\n",
      "Please also refer to the documentation for alternative solver options:\n",
      "    https://scikit-learn.org/stable/modules/linear_model.html#logistic-regression\n",
      "  n_iter_i = _check_optimize_result(\n",
      "D:\\anaconda\\file\\lib\\site-packages\\sklearn\\base.py:493: FutureWarning: The feature names should match those that were passed during fit. Starting version 1.2, an error will be raised.\n",
      "Feature names unseen at fit time:\n",
      "- 2022-06\n",
      "Feature names seen at fit time, yet now missing:\n",
      "- 2019-07\n",
      "\n",
      "  warnings.warn(message, FutureWarning)\n"
     ]
    },
    {
     "name": "stdout",
     "output_type": "stream",
     "text": [
      "before predict next t\n",
      "after predict next t\n",
      "mean_absolute_error 0.23937823834196892\n",
      "mean_squared_error 8.602072538860103\n",
      "median_absolute_error 0.0\n",
      "explained_variance_score -32.55037408782058\n",
      "r2_score,r2_score -32.556745729198965\n",
      "after evaluation\n",
      "Other theft\n",
      "..\\..\\dataset\\crime_data_predict_input\\Other theft.xlsx\n",
      "before train\n",
      "after train\n"
     ]
    },
    {
     "name": "stderr",
     "output_type": "stream",
     "text": [
      "D:\\anaconda\\file\\lib\\site-packages\\sklearn\\linear_model\\_logistic.py:814: ConvergenceWarning: lbfgs failed to converge (status=1):\n",
      "STOP: TOTAL NO. of ITERATIONS REACHED LIMIT.\n",
      "\n",
      "Increase the number of iterations (max_iter) or scale the data as shown in:\n",
      "    https://scikit-learn.org/stable/modules/preprocessing.html\n",
      "Please also refer to the documentation for alternative solver options:\n",
      "    https://scikit-learn.org/stable/modules/linear_model.html#logistic-regression\n",
      "  n_iter_i = _check_optimize_result(\n",
      "D:\\anaconda\\file\\lib\\site-packages\\sklearn\\base.py:493: FutureWarning: The feature names should match those that were passed during fit. Starting version 1.2, an error will be raised.\n",
      "Feature names unseen at fit time:\n",
      "- 2022-06\n",
      "Feature names seen at fit time, yet now missing:\n",
      "- 2019-07\n",
      "\n",
      "  warnings.warn(message, FutureWarning)\n"
     ]
    },
    {
     "name": "stdout",
     "output_type": "stream",
     "text": [
      "before predict next t\n",
      "after predict next t\n",
      "mean_absolute_error 1.5264248704663212\n",
      "mean_squared_error 55.681865284974094\n",
      "median_absolute_error 1.0\n",
      "explained_variance_score 0.19431380665968612\n",
      "r2_score,r2_score 0.17473952949388927\n",
      "after evaluation\n",
      "Possession of weapons\n",
      "..\\..\\dataset\\crime_data_predict_input\\Possession of weapons.xlsx\n",
      "before train\n",
      "after train\n",
      "before predict next t\n",
      "after predict next t\n",
      "mean_absolute_error 0.10259067357512953\n",
      "mean_squared_error 0.2\n",
      "median_absolute_error 0.0\n",
      "explained_variance_score 0.2136926565497992\n",
      "r2_score,r2_score 0.1878379556950983\n",
      "after evaluation\n"
     ]
    },
    {
     "name": "stderr",
     "output_type": "stream",
     "text": [
      "D:\\anaconda\\file\\lib\\site-packages\\sklearn\\base.py:493: FutureWarning: The feature names should match those that were passed during fit. Starting version 1.2, an error will be raised.\n",
      "Feature names unseen at fit time:\n",
      "- 2022-06\n",
      "Feature names seen at fit time, yet now missing:\n",
      "- 2019-07\n",
      "\n",
      "  warnings.warn(message, FutureWarning)\n"
     ]
    },
    {
     "name": "stdout",
     "output_type": "stream",
     "text": [
      "Public order\n",
      "..\\..\\dataset\\crime_data_predict_input\\Public order.xlsx\n",
      "before train\n",
      "after train\n"
     ]
    },
    {
     "name": "stderr",
     "output_type": "stream",
     "text": [
      "D:\\anaconda\\file\\lib\\site-packages\\sklearn\\linear_model\\_logistic.py:814: ConvergenceWarning: lbfgs failed to converge (status=1):\n",
      "STOP: TOTAL NO. of ITERATIONS REACHED LIMIT.\n",
      "\n",
      "Increase the number of iterations (max_iter) or scale the data as shown in:\n",
      "    https://scikit-learn.org/stable/modules/preprocessing.html\n",
      "Please also refer to the documentation for alternative solver options:\n",
      "    https://scikit-learn.org/stable/modules/linear_model.html#logistic-regression\n",
      "  n_iter_i = _check_optimize_result(\n",
      "D:\\anaconda\\file\\lib\\site-packages\\sklearn\\base.py:493: FutureWarning: The feature names should match those that were passed during fit. Starting version 1.2, an error will be raised.\n",
      "Feature names unseen at fit time:\n",
      "- 2022-06\n",
      "Feature names seen at fit time, yet now missing:\n",
      "- 2019-07\n",
      "\n",
      "  warnings.warn(message, FutureWarning)\n"
     ]
    },
    {
     "name": "stdout",
     "output_type": "stream",
     "text": [
      "before predict next t\n",
      "after predict next t\n",
      "mean_absolute_error 0.9461139896373058\n",
      "mean_squared_error 2.9979274611398963\n",
      "median_absolute_error 1.0\n",
      "explained_variance_score 0.39534541486574104\n",
      "r2_score,r2_score 0.3013004207096255\n",
      "after evaluation\n",
      "Robbery\n",
      "..\\..\\dataset\\crime_data_predict_input\\Robbery.xlsx\n",
      "before train\n",
      "after train\n"
     ]
    },
    {
     "name": "stderr",
     "output_type": "stream",
     "text": [
      "D:\\anaconda\\file\\lib\\site-packages\\sklearn\\linear_model\\_logistic.py:814: ConvergenceWarning: lbfgs failed to converge (status=1):\n",
      "STOP: TOTAL NO. of ITERATIONS REACHED LIMIT.\n",
      "\n",
      "Increase the number of iterations (max_iter) or scale the data as shown in:\n",
      "    https://scikit-learn.org/stable/modules/preprocessing.html\n",
      "Please also refer to the documentation for alternative solver options:\n",
      "    https://scikit-learn.org/stable/modules/linear_model.html#logistic-regression\n",
      "  n_iter_i = _check_optimize_result(\n",
      "D:\\anaconda\\file\\lib\\site-packages\\sklearn\\base.py:493: FutureWarning: The feature names should match those that were passed during fit. Starting version 1.2, an error will be raised.\n",
      "Feature names unseen at fit time:\n",
      "- 2022-06\n",
      "Feature names seen at fit time, yet now missing:\n",
      "- 2019-07\n",
      "\n",
      "  warnings.warn(message, FutureWarning)\n"
     ]
    },
    {
     "name": "stdout",
     "output_type": "stream",
     "text": [
      "before predict next t\n",
      "after predict next t\n",
      "mean_absolute_error 0.661139896373057\n",
      "mean_squared_error 4.719170984455959\n",
      "median_absolute_error 0.0\n",
      "explained_variance_score 0.28599772096717047\n",
      "r2_score,r2_score 0.24718427069921622\n",
      "after evaluation\n",
      "Shoplifting\n",
      "..\\..\\dataset\\crime_data_predict_input\\Shoplifting.xlsx\n",
      "before train\n",
      "after train\n"
     ]
    },
    {
     "name": "stderr",
     "output_type": "stream",
     "text": [
      "D:\\anaconda\\file\\lib\\site-packages\\sklearn\\linear_model\\_logistic.py:814: ConvergenceWarning: lbfgs failed to converge (status=1):\n",
      "STOP: TOTAL NO. of ITERATIONS REACHED LIMIT.\n",
      "\n",
      "Increase the number of iterations (max_iter) or scale the data as shown in:\n",
      "    https://scikit-learn.org/stable/modules/preprocessing.html\n",
      "Please also refer to the documentation for alternative solver options:\n",
      "    https://scikit-learn.org/stable/modules/linear_model.html#logistic-regression\n",
      "  n_iter_i = _check_optimize_result(\n",
      "D:\\anaconda\\file\\lib\\site-packages\\sklearn\\base.py:493: FutureWarning: The feature names should match those that were passed during fit. Starting version 1.2, an error will be raised.\n",
      "Feature names unseen at fit time:\n",
      "- 2022-06\n",
      "Feature names seen at fit time, yet now missing:\n",
      "- 2019-07\n",
      "\n",
      "  warnings.warn(message, FutureWarning)\n"
     ]
    },
    {
     "name": "stdout",
     "output_type": "stream",
     "text": [
      "before predict next t\n",
      "after predict next t\n",
      "mean_absolute_error 0.5792746113989637\n",
      "mean_squared_error 8.446632124352332\n",
      "median_absolute_error 0.0\n",
      "explained_variance_score 0.34438542450169063\n",
      "r2_score,r2_score 0.3302814026898361\n",
      "after evaluation\n",
      "Theft from the person\n",
      "..\\..\\dataset\\crime_data_predict_input\\Theft from the person.xlsx\n",
      "before train\n",
      "after train\n"
     ]
    },
    {
     "name": "stderr",
     "output_type": "stream",
     "text": [
      "D:\\anaconda\\file\\lib\\site-packages\\sklearn\\linear_model\\_logistic.py:814: ConvergenceWarning: lbfgs failed to converge (status=1):\n",
      "STOP: TOTAL NO. of ITERATIONS REACHED LIMIT.\n",
      "\n",
      "Increase the number of iterations (max_iter) or scale the data as shown in:\n",
      "    https://scikit-learn.org/stable/modules/preprocessing.html\n",
      "Please also refer to the documentation for alternative solver options:\n",
      "    https://scikit-learn.org/stable/modules/linear_model.html#logistic-regression\n",
      "  n_iter_i = _check_optimize_result(\n",
      "D:\\anaconda\\file\\lib\\site-packages\\sklearn\\base.py:493: FutureWarning: The feature names should match those that were passed during fit. Starting version 1.2, an error will be raised.\n",
      "Feature names unseen at fit time:\n",
      "- 2022-06\n",
      "Feature names seen at fit time, yet now missing:\n",
      "- 2019-07\n",
      "\n",
      "  warnings.warn(message, FutureWarning)\n"
     ]
    },
    {
     "name": "stdout",
     "output_type": "stream",
     "text": [
      "before predict next t\n",
      "after predict next t\n",
      "mean_absolute_error 0.9979274611398964\n",
      "mean_squared_error 43.20932642487047\n",
      "median_absolute_error 0.0\n",
      "explained_variance_score 0.25407742888479046\n",
      "r2_score,r2_score 0.2461866275739465\n",
      "after evaluation\n",
      "Vehicle crime\n",
      "..\\..\\dataset\\crime_data_predict_input\\Vehicle crime.xlsx\n",
      "before train\n",
      "after train\n"
     ]
    },
    {
     "name": "stderr",
     "output_type": "stream",
     "text": [
      "D:\\anaconda\\file\\lib\\site-packages\\sklearn\\linear_model\\_logistic.py:814: ConvergenceWarning: lbfgs failed to converge (status=1):\n",
      "STOP: TOTAL NO. of ITERATIONS REACHED LIMIT.\n",
      "\n",
      "Increase the number of iterations (max_iter) or scale the data as shown in:\n",
      "    https://scikit-learn.org/stable/modules/preprocessing.html\n",
      "Please also refer to the documentation for alternative solver options:\n",
      "    https://scikit-learn.org/stable/modules/linear_model.html#logistic-regression\n",
      "  n_iter_i = _check_optimize_result(\n",
      "D:\\anaconda\\file\\lib\\site-packages\\sklearn\\base.py:493: FutureWarning: The feature names should match those that were passed during fit. Starting version 1.2, an error will be raised.\n",
      "Feature names unseen at fit time:\n",
      "- 2022-06\n",
      "Feature names seen at fit time, yet now missing:\n",
      "- 2019-07\n",
      "\n",
      "  warnings.warn(message, FutureWarning)\n"
     ]
    },
    {
     "name": "stdout",
     "output_type": "stream",
     "text": [
      "before predict next t\n",
      "after predict next t\n",
      "mean_absolute_error 0.6746113989637306\n",
      "mean_squared_error 1.4269430051813472\n",
      "median_absolute_error 0.0\n",
      "explained_variance_score 0.27894968495482364\n",
      "r2_score,r2_score 0.13737151181435625\n",
      "after evaluation\n",
      "Violence and sexual offences\n",
      "..\\..\\dataset\\crime_data_predict_input\\Violence and sexual offences.xlsx\n",
      "before train\n",
      "after train\n"
     ]
    },
    {
     "name": "stderr",
     "output_type": "stream",
     "text": [
      "D:\\anaconda\\file\\lib\\site-packages\\sklearn\\linear_model\\_logistic.py:814: ConvergenceWarning: lbfgs failed to converge (status=1):\n",
      "STOP: TOTAL NO. of ITERATIONS REACHED LIMIT.\n",
      "\n",
      "Increase the number of iterations (max_iter) or scale the data as shown in:\n",
      "    https://scikit-learn.org/stable/modules/preprocessing.html\n",
      "Please also refer to the documentation for alternative solver options:\n",
      "    https://scikit-learn.org/stable/modules/linear_model.html#logistic-regression\n",
      "  n_iter_i = _check_optimize_result(\n",
      "D:\\anaconda\\file\\lib\\site-packages\\sklearn\\base.py:493: FutureWarning: The feature names should match those that were passed during fit. Starting version 1.2, an error will be raised.\n",
      "Feature names unseen at fit time:\n",
      "- 2022-06\n",
      "Feature names seen at fit time, yet now missing:\n",
      "- 2019-07\n",
      "\n",
      "  warnings.warn(message, FutureWarning)\n"
     ]
    },
    {
     "name": "stdout",
     "output_type": "stream",
     "text": [
      "before predict next t\n",
      "after predict next t\n",
      "mean_absolute_error 2.779274611398964\n",
      "mean_squared_error 29.97720207253886\n",
      "median_absolute_error 2.0\n",
      "explained_variance_score 0.15790020496230117\n",
      "r2_score,r2_score 0.14798385573173845\n",
      "after evaluation\n"
     ]
    }
   ],
   "source": [
    "import pandas as pd\n",
    "import numpy as np\n",
    "import os\n",
    "\n",
    "from sklearn.linear_model import LogisticRegression\n",
    "\n",
    "from sklearn.metrics import explained_variance_score,mean_absolute_error,mean_squared_error,median_absolute_error,r2_score\n",
    "train_samples_number=3866\n",
    "path=r\"..\\..\\dataset\\crime_data_predict_input\"\n",
    "path_predict=r\"..\\..\\dataset\\crime_data_logistic_regression_result\"\n",
    "columns=[\"LSOA code\",\"mean_absolute_error\",\"mean_squared_error\",\"median_absolute_error\",\"explained_variance_score\",\"r2_score\"]\n",
    "data_evaluate=pd.DataFrame(columns=columns)\n",
    "data_evaluate.set_index(\"LSOA code\",inplace=True)\n",
    "for root, dirs, filenames in os.walk(path):\n",
    "    for filename in filenames:\n",
    "        print(filename[:-5])\n",
    "        file_path=os.path.join(path,filename)\n",
    "        print(file_path)\n",
    "        data=pd.read_excel(file_path)\n",
    "        data.set_index(\"LSOA code\",inplace=True)\n",
    "        train_data=data.iloc[:3866,:]\n",
    "        test_data = data.iloc[3866:, :]\n",
    "        train_x = train_data.iloc[:, 0:35]\n",
    "        train_y=train_data[\"2022-06\"]\n",
    "        test_x = test_data.iloc[:, 0:35]\n",
    "        test_y = test_data[\"2022-06\"]\n",
    "        predict_x=data.iloc[:, 1:36]\n",
    "        print(\"before train\")\n",
    "        tree_model  = LogisticRegression()\n",
    "        print(\"after train\")\n",
    "        tree_model.fit(train_x, train_y)\n",
    "        y_pred=np.round(tree_model.predict(test_x))  #for test\n",
    "        print(\"before predict next t\")\n",
    "        predict_y=np.round(tree_model.predict(predict_x))  #for predict crime number next time\n",
    "        print(\"after predict next t\")\n",
    "        mean_absolute_error0=mean_absolute_error(test_y, y_pred)\n",
    "        mean_squared_error0=mean_squared_error(test_y, y_pred)\n",
    "        median_absolute_error0=median_absolute_error(test_y, y_pred)\n",
    "        explained_variance_score0=explained_variance_score(test_y, y_pred)\n",
    "        r2_score0=r2_score(test_y, y_pred)\n",
    "        print(\"mean_absolute_error\",mean_absolute_error0)\n",
    "        print(\"mean_squared_error\",mean_squared_error0)\n",
    "        print(\"median_absolute_error\",median_absolute_error0)\n",
    "        print(\"explained_variance_score\",explained_variance_score0)\n",
    "        print(\"r2_score,r2_score\",r2_score0)\n",
    "        print(\"after evaluation\")\n",
    "        data_evaluate.loc[filename[:-5]]=[mean_absolute_error,mean_squared_error,median_absolute_error,explained_variance_score,r2_score]\n",
    "        data[\"predict\"]=predict_y\n",
    "        data.to_excel(os.path.join(path_predict,filename))\n",
    "\n",
    "\n",
    "        from sklearn.metrics import explained_variance_score,mean_absolute_error,mean_squared_error,median_absolute_error,r2_score\n",
    "\n",
    "\n",
    "\n"
   ]
  },
  {
   "cell_type": "code",
   "execution_count": null,
   "id": "b493fecb",
   "metadata": {},
   "outputs": [],
   "source": [
    "data_evaluate.to_excel(r\"..\\..\\dataset\\crime_assessment\\logistic regression.xlsx\")"
   ]
  }
 ],
 "metadata": {
  "kernelspec": {
   "display_name": "Python 3 (ipykernel)",
   "language": "python",
   "name": "python3"
  },
  "language_info": {
   "codemirror_mode": {
    "name": "ipython",
    "version": 3
   },
   "file_extension": ".py",
   "mimetype": "text/x-python",
   "name": "python",
   "nbconvert_exporter": "python",
   "pygments_lexer": "ipython3",
   "version": "3.9.12"
  }
 },
 "nbformat": 4,
 "nbformat_minor": 5
}
