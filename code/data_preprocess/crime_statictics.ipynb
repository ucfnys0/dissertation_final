{
 "cells": [
  {
   "cell_type": "code",
   "execution_count": null,
   "id": "2ac2063f",
   "metadata": {},
   "outputs": [],
   "source": [
    "import pandas as pd\n",
    "import numpy as np\n",
    "import os\n",
    "def read_file(file_path):\n",
    "    crime_data=pd.read_excel(file_path)\n",
    "    return crime_data\n",
    "\n",
    "def statictics(crime_data):\n",
    "    statictics_crime_data = pd.DataFrame()\n",
    "    array = np.zeros((len(crime_data[\"LSOA code\"].drop_duplicates()), len(crime_data[\"Crime type\"].drop_duplicates())))\n",
    "    statictics_crime_data = pd.DataFrame(array, columns=list(crime_data[\"Crime type\"].drop_duplicates()))\n",
    "    statictics_crime_data[\"LSOA code\"] = list(crime_data[\"LSOA code\"].drop_duplicates())\n",
    "    statictics_crime_data.set_index(\"LSOA code\", inplace=True)\n",
    "    for index, row in crime_data.iterrows():\n",
    "        index = row[\"LSOA code\"]\n",
    "        column = row[\"Crime type\"]\n",
    "        statictics_crime_data.loc[index, column] = statictics_crime_data.loc[index, column] + 1\n",
    "\n",
    "    return statictics_crime_data\n",
    "\n",
    "\n",
    "path=\"..\\..\\dataset\\screened_crime\"\n",
    "for dirpath, dirnames, filenames in os.walk(path):\n",
    "    for filename in filenames:\n",
    "        print(os.path.join(dirpath, filename))\n",
    "        crime_data=read_file(os.path.join(dirpath, filename))\n",
    "        statictics_crime_data = statictics(crime_data)\n",
    "        statictics_crime_data\n",
    "\n",
    "\n",
    "        \n"
   ]
  },
  {
   "cell_type": "code",
   "execution_count": null,
   "id": "db972cab",
   "metadata": {},
   "outputs": [],
   "source": [
    "statictics_crime_data.to_excel(r\"..\\..\\dataset\\screened_crime\\\\\"+filename[0:-4]+\".xlsx\")"
   ]
  }
 ],
 "metadata": {
  "kernelspec": {
   "display_name": "Python 3 (ipykernel)",
   "language": "python",
   "name": "python3"
  },
  "language_info": {
   "codemirror_mode": {
    "name": "ipython",
    "version": 3
   },
   "file_extension": ".py",
   "mimetype": "text/x-python",
   "name": "python",
   "nbconvert_exporter": "python",
   "pygments_lexer": "ipython3",
   "version": "3.9.12"
  }
 },
 "nbformat": 4,
 "nbformat_minor": 5
}
