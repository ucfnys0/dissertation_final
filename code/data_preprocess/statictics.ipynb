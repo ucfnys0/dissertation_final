{
 "cells": [
  {
   "cell_type": "code",
   "execution_count": 1,
   "id": "2f39f03f",
   "metadata": {},
   "outputs": [
    {
     "name": "stdout",
     "output_type": "stream",
     "text": [
      "result 99329\n",
      "result 190863\n",
      "result 278205\n",
      "result 374721\n",
      "result 465925\n",
      "result 552000\n",
      "result 642979\n",
      "result 729963\n",
      "result 817372\n",
      "result 927323\n",
      "result 1041331\n",
      "result 1141529\n",
      "result 1245186\n",
      "result 1349968\n",
      "result 1449601\n",
      "result 1549072\n",
      "result 1645986\n",
      "result 1733922\n",
      "result 1818770\n",
      "result 1898744\n",
      "result 1990410\n",
      "result 2077609\n",
      "result 2169834\n",
      "result 2265361\n",
      "result 2359966\n",
      "result 2449206\n",
      "result 2540087\n",
      "result 2634079\n",
      "result 2724220\n",
      "result 2806798\n",
      "result 2891166\n",
      "result 2971444\n",
      "result 3079236\n",
      "result 3165152\n",
      "result 3260565\n",
      "result 3353109\n",
      "3353109\n"
     ]
    }
   ],
   "source": [
    "import pandas as pd\n",
    "import os\n",
    "path=r\"..\\..\\dataset\\crime_dataset\"\n",
    "total=0\n",
    "for root,dirs, files in os.walk(path):\n",
    "    for dir in dirs:\n",
    "        file_name=dir+\"-metropolitan-street.csv\"\n",
    "        file_path=os.path.join(path,dir,file_name)\n",
    "        data=pd.read_csv(file_path)\n",
    "\n",
    "        total=total+data.shape[0]\n",
    "        print(\"result\",total)\n",
    "print(total)"
   ]
  },
  {
   "cell_type": "code",
   "execution_count": null,
   "id": "55be6fec",
   "metadata": {},
   "outputs": [],
   "source": []
  }
 ],
 "metadata": {
  "kernelspec": {
   "display_name": "Python 3 (ipykernel)",
   "language": "python",
   "name": "python3"
  },
  "language_info": {
   "codemirror_mode": {
    "name": "ipython",
    "version": 3
   },
   "file_extension": ".py",
   "mimetype": "text/x-python",
   "name": "python",
   "nbconvert_exporter": "python",
   "pygments_lexer": "ipython3",
   "version": "3.9.12"
  }
 },
 "nbformat": 4,
 "nbformat_minor": 5
}
