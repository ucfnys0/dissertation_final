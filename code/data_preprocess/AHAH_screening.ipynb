{
 "cells": [
  {
   "cell_type": "code",
   "execution_count": null,
   "id": "ffc17886",
   "metadata": {},
   "outputs": [],
   "source": [
    "import pandas as pd\n",
    "area_code=pd.read_excel(r\"..\\..\\dataset\\LSOA_code.xlsx\")\n",
    "community_data=pd.read_csv(r\"..\\..\\dataset\\AHAH\\AHAH_V3.csv\")\n",
    "\n",
    "for index, row in community_data.iterrows():\n",
    "    if row[1] not in list(area_code[\"Area Code\"]):\n",
    "      #  print(row[1])\n",
    "        community_data.drop(index=index, inplace=True)\n",
    "\n",
    "community_data"
   ]
  },
  {
   "cell_type": "code",
   "execution_count": null,
   "id": "7c6edd26",
   "metadata": {},
   "outputs": [],
   "source": [
    "community_data.to_excel(r\"..\\..\\dataset\\AHAH\\AHAH_V3_preprocessed.xlsx\")"
   ]
  }
 ],
 "metadata": {
  "kernelspec": {
   "display_name": "Python 3 (ipykernel)",
   "language": "python",
   "name": "python3"
  },
  "language_info": {
   "codemirror_mode": {
    "name": "ipython",
    "version": 3
   },
   "file_extension": ".py",
   "mimetype": "text/x-python",
   "name": "python",
   "nbconvert_exporter": "python",
   "pygments_lexer": "ipython3",
   "version": "3.9.12"
  }
 },
 "nbformat": 4,
 "nbformat_minor": 5
}
