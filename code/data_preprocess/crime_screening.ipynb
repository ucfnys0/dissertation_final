{
 "cells": [
  {
   "cell_type": "code",
   "execution_count": null,
   "id": "a257a4a2",
   "metadata": {},
   "outputs": [
    {
     "name": "stdout",
     "output_type": "stream",
     "text": [
      "..\\..\\dataset\\crime_dataset\\2019-07\\2019-07-metropolitan-street.csv\n",
      "0 0\n",
      "10000 9987\n",
      "20000 19960\n"
     ]
    }
   ],
   "source": [
    "import pandas as pd\n",
    "import os\n",
    "\n",
    "path=\"..\\..\\dataset\\crime_dataset\"\n",
    "area_code=pd.read_excel(r\"..\\..\\dataset\\LSOA_code.xlsx\")\n",
    "total_london=0\n",
    "for dirpath, dirnames, filenames in os.walk(path):\n",
    "    for filename in filenames:\n",
    "        print(os.path.join(dirpath, filename))\n",
    "        crime_data=pd.read_csv(os.path.join(dirpath, filename))\n",
    "        #Longitude\tLatitude\tLSOA code\tCrime type\tLast outcome category\n",
    "\n",
    "\n",
    "        crime_data=pd.DataFrame(crime_data[\"LSOA code\"])\n",
    "        for index, row in crime_data.iterrows():\n",
    "            if index%10000==0:\n",
    "                print(index,total_london)\n",
    "           # if row[\"LSOA code\"] not in list(area_code[\"Area Code\"]) or row[\"Last outcome category\"]== \"Investigation complete; no suspect identified\":\n",
    "            if row[\"LSOA code\"] in list(area_code[\"Area Code\"]):\n",
    "                total_london=total_london+1\n",
    "               # print(row[\"LSOA code\"],row[\"Last outcome category\"])\n",
    "               # crime_data.drop(index=index, inplace=True)\n",
    "\n",
    "        #crime_data.to_excel(r\"..\\..\\screened_crime\\\\\"+filename[0:-4]+\".xlsx\")\n",
    "print(total_london)\n",
    "\n",
    "\n",
    "\n",
    "exit()\n",
    "area_code=pd.read_excel(r\"..\\..\\dataset\\LSOA_code.xlsx\")\n",
    "community_data=pd.read_csv(r\"..\\..\\dataset\\AHAH\\AHAH_V3.csv\")\n",
    "\n",
    "for index, row in community_data.iterrows():\n",
    "    if row[1] not in list(area_code[\"Area Code\"]):\n",
    "        print(row[1])\n",
    "        community_data.drop(index=index, inplace=True)\n",
    "community_data.to_excel(r\"..\\..\\dataset\\AHAH\\AHAH_V3_preprocessed.xlsx\")"
   ]
  },
  {
   "cell_type": "code",
   "execution_count": null,
   "id": "db16ef7d",
   "metadata": {},
   "outputs": [],
   "source": []
  }
 ],
 "metadata": {
  "kernelspec": {
   "display_name": "Python 3 (ipykernel)",
   "language": "python",
   "name": "python3"
  },
  "language_info": {
   "codemirror_mode": {
    "name": "ipython",
    "version": 3
   },
   "file_extension": ".py",
   "mimetype": "text/x-python",
   "name": "python",
   "nbconvert_exporter": "python",
   "pygments_lexer": "ipython3",
   "version": "3.9.12"
  }
 },
 "nbformat": 4,
 "nbformat_minor": 5
}
